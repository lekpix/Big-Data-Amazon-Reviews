{
  "nbformat": 4,
  "nbformat_minor": 0,
  "metadata": {
    "colab": {
      "name": "AmazonWatchReview.ipynb",
      "provenance": [],
      "collapsed_sections": []
    },
    "kernelspec": {
      "name": "python3",
      "display_name": "Python 3"
    },
    "language_info": {
      "name": "python"
    }
  },
  "cells": [
    {
      "cell_type": "code",
      "source": [
        "import os\n",
        "# Find the latest version of spark 3.0  from http://www.apache.org/dist/spark/ and enter as the spark version\n",
        "# For example:\n",
        "# spark_version = 'spark-3.0.3'\n",
        "spark_version = 'spark-3.2.0'\n",
        "os.environ['SPARK_VERSION']=spark_version\n",
        "\n",
        "# Install Spark and Java\n",
        "!apt-get update\n",
        "!apt-get install openjdk-8-jdk-headless -qq > /dev/null\n",
        "!wget -q http://www.apache.org/dist/spark/$SPARK_VERSION/$SPARK_VERSION-bin-hadoop2.7.tgz\n",
        "!tar xf $SPARK_VERSION-bin-hadoop2.7.tgz\n",
        "!pip install pyspark\n",
        "!pip install -q findspark\n",
        "\n",
        "# Set Environment Variables\n",
        "os.environ[\"JAVA_HOME\"] = \"/usr/lib/jvm/java-8-openjdk-amd64\"\n",
        "os.environ[\"SPARK_HOME\"] = f\"/content/{spark_version}-bin-hadoop2.7\"\n",
        "\n",
        "# Start a SparkSession\n",
        "import findspark\n",
        "findspark.init()"
      ],
      "metadata": {
        "id": "dwUPgWWBsnHD",
        "colab": {
          "base_uri": "https://localhost:8080/"
        },
        "outputId": "8d47a43f-49ec-4a8b-faa7-4ecaf87368be"
      },
      "execution_count": 82,
      "outputs": [
        {
          "output_type": "stream",
          "name": "stdout",
          "text": [
            "\r0% [Working]\r            \rIgn:1 https://developer.download.nvidia.com/compute/cuda/repos/ubuntu1804/x86_64  InRelease\n",
            "\r0% [Connecting to archive.ubuntu.com] [Connecting to security.ubuntu.com] [Conn\r                                                                               \rIgn:2 https://developer.download.nvidia.com/compute/machine-learning/repos/ubuntu1804/x86_64  InRelease\n",
            "\r0% [Connecting to archive.ubuntu.com] [Connecting to security.ubuntu.com] [Wait\r                                                                               \rHit:3 https://cloud.r-project.org/bin/linux/ubuntu bionic-cran40/ InRelease\n",
            "\r0% [Connecting to archive.ubuntu.com] [Connecting to security.ubuntu.com] [Conn\r                                                                               \rHit:4 https://developer.download.nvidia.com/compute/cuda/repos/ubuntu1804/x86_64  Release\n",
            "Hit:5 https://developer.download.nvidia.com/compute/machine-learning/repos/ubuntu1804/x86_64  Release\n",
            "Hit:6 http://ppa.launchpad.net/c2d4u.team/c2d4u4.0+/ubuntu bionic InRelease\n",
            "Hit:7 http://security.ubuntu.com/ubuntu bionic-security InRelease\n",
            "Hit:8 http://archive.ubuntu.com/ubuntu bionic InRelease\n",
            "Hit:10 http://ppa.launchpad.net/cran/libgit2/ubuntu bionic InRelease\n",
            "Hit:11 http://archive.ubuntu.com/ubuntu bionic-updates InRelease\n",
            "Hit:13 http://archive.ubuntu.com/ubuntu bionic-backports InRelease\n",
            "Hit:14 http://ppa.launchpad.net/deadsnakes/ppa/ubuntu bionic InRelease\n",
            "Hit:15 http://ppa.launchpad.net/graphics-drivers/ppa/ubuntu bionic InRelease\n",
            "Reading package lists... Done\n",
            "tar: spark-3.2.0-bin-hadoop2.7.tgz: Cannot open: No such file or directory\n",
            "tar: Error is not recoverable: exiting now\n",
            "Requirement already satisfied: pyspark in /usr/local/lib/python3.7/dist-packages (3.2.1)\n",
            "Requirement already satisfied: py4j==0.10.9.3 in /usr/local/lib/python3.7/dist-packages (from pyspark) (0.10.9.3)\n"
          ]
        }
      ]
    },
    {
      "cell_type": "code",
      "source": [
        "!wget https://jdbc.postgresql.org/download/postgresql-42.2.9.jar"
      ],
      "metadata": {
        "id": "kIXRUdRUrydD",
        "colab": {
          "base_uri": "https://localhost:8080/"
        },
        "outputId": "d2a88542-081a-4517-af25-98238ba56d0c"
      },
      "execution_count": 83,
      "outputs": [
        {
          "output_type": "stream",
          "name": "stdout",
          "text": [
            "--2022-01-26 19:58:12--  https://jdbc.postgresql.org/download/postgresql-42.2.9.jar\n",
            "Resolving jdbc.postgresql.org (jdbc.postgresql.org)... 72.32.157.228, 2001:4800:3e1:1::228\n",
            "Connecting to jdbc.postgresql.org (jdbc.postgresql.org)|72.32.157.228|:443... connected.\n",
            "HTTP request sent, awaiting response... 200 OK\n",
            "Length: 914037 (893K) [application/java-archive]\n",
            "Saving to: ‘postgresql-42.2.9.jar.3’\n",
            "\n",
            "postgresql-42.2.9.j 100%[===================>] 892.61K  5.37MB/s    in 0.2s    \n",
            "\n",
            "2022-01-26 19:58:12 (5.37 MB/s) - ‘postgresql-42.2.9.jar.3’ saved [914037/914037]\n",
            "\n"
          ]
        }
      ]
    },
    {
      "cell_type": "code",
      "source": [
        "from pyspark.sql import SparkSession\n",
        "spark = SparkSession.builder.appName(\"CloudETLAmazon\").config(\"spark.driver.extraClassPath\",\"/content/postgresql-42.2.9.jar\").getOrCreate()"
      ],
      "metadata": {
        "id": "vcUATN4zs2Fq"
      },
      "execution_count": 84,
      "outputs": []
    },
    {
      "cell_type": "code",
      "source": [
        "# Read in data from S3 Buckets\n",
        "from pyspark import SparkFiles\n",
        "url=\"https://s3.amazonaws.com/amazon-reviews-pds/tsv/amazon_reviews_us_Watches_v1_00.tsv.gz\"\n",
        "spark.sparkContext.addFile(url)\n",
        "watch_data_df = spark.read.csv(SparkFiles.get(\"amazon_reviews_us_Watches_v1_00.tsv.gz\"), sep=\"\\t\", header=True, inferSchema=True, timestampFormat=\"yyyy-mm-dd\")\n",
        "# Show DataFrame\n",
        "watch_data_df.show()"
      ],
      "metadata": {
        "id": "d2pbZ7K1tBL4",
        "colab": {
          "base_uri": "https://localhost:8080/"
        },
        "outputId": "8632c173-2ec4-47a3-f60b-080f7be564be"
      },
      "execution_count": 85,
      "outputs": [
        {
          "output_type": "stream",
          "name": "stdout",
          "text": [
            "+-----------+-----------+--------------+----------+--------------+--------------------+----------------+-----------+-------------+-----------+----+-----------------+--------------------+--------------------+-------------------+\n",
            "|marketplace|customer_id|     review_id|product_id|product_parent|       product_title|product_category|star_rating|helpful_votes|total_votes|vine|verified_purchase|     review_headline|         review_body|        review_date|\n",
            "+-----------+-----------+--------------+----------+--------------+--------------------+----------------+-----------+-------------+-----------+----+-----------------+--------------------+--------------------+-------------------+\n",
            "|         US|    3653882|R3O9SGZBVQBV76|B00FALQ1ZC|     937001370|Invicta Women's 1...|         Watches|          5|            0|          0|   N|                Y|          Five Stars|Absolutely love t...|2015-01-31 00:08:00|\n",
            "|         US|   14661224| RKH8BNC3L5DLF|B00D3RGO20|     484010722|Kenneth Cole New ...|         Watches|          5|            0|          0|   N|                Y|I love thiswatch ...|I love this watch...|2015-01-31 00:08:00|\n",
            "|         US|   27324930|R2HLE8WKZSU3NL|B00DKYC7TK|     361166390|Ritche 22mm Black...|         Watches|          2|            1|          1|   N|                Y|           Two Stars|           Scratches|2015-01-31 00:08:00|\n",
            "|         US|    7211452|R31U3UH5AZ42LL|B000EQS1JW|     958035625|Citizen Men's BM8...|         Watches|          5|            0|          0|   N|                Y|          Five Stars|It works well on ...|2015-01-31 00:08:00|\n",
            "|         US|   12733322|R2SV659OUJ945Y|B00A6GFD7S|     765328221|Orient ER27009B M...|         Watches|          4|            0|          0|   N|                Y|Beautiful face, b...|Beautiful watch f...|2015-01-31 00:08:00|\n",
            "|         US|    6576411| RA51CP8TR5A2L|B00EYSOSE8|     230493695|Casio Men's GW-94...|         Watches|          5|            0|          0|   N|                Y|       No complaints|i love this watch...|2015-01-31 00:08:00|\n",
            "|         US|   11811565| RB2Q7DLDN6TH6|B00WM0QA3M|     549298279|Fossil Women's ES...|         Watches|          5|            1|          1|   N|                Y|          Five Stars|for my wife and s...|2015-01-31 00:08:00|\n",
            "|         US|   49401598|R2RHFJV0UYBK3Y|B00A4EYBR0|     844009113|INFANTRY Mens Nig...|         Watches|          1|            1|          5|   N|                N|I was about to bu...|I was about to bu...|2015-01-31 00:08:00|\n",
            "|         US|   45925069|R2Z6JOQ94LFHEP|B00MAMPGGE|     263720892|G-Shock Men's Gre...|         Watches|          5|            1|          2|   N|                Y|      Perfect watch!|Watch is perfect....|2015-01-31 00:08:00|\n",
            "|         US|   44751341| RX27XIIWY5JPB|B004LBPB7Q|     124278407|Heiden Quad Watch...|         Watches|          4|            0|          0|   N|                Y|Great quality and...|Great quality and...|2015-01-31 00:08:00|\n",
            "|         US|    9962330|R15C7QEZT0LGZN|B00KGTVGKS|      28017857|Fossil Women's ES...|         Watches|          4|            2|          2|   N|                Y|           Satisfied|The watch was pre...|2015-01-31 00:08:00|\n",
            "|         US|   16097204|R361XSS37V0NCZ|B0039UT5OU|     685450910|Casio General Men...|         Watches|          1|            0|          0|   N|                N|I do not think th...|I bought this wat...|2015-01-31 00:08:00|\n",
            "|         US|   51330346| ROTNLALUAJAUB|B00MPF0XJQ|     767769082|2Tone Gold Silver...|         Watches|          3|            0|          0|   N|                Y|         Three Stars|It is a cheap wat...|2015-01-31 00:08:00|\n",
            "|         US|    4201739|R2DYX7QU6BGOHR|B003P1OHHS|     648595227|Bulova Men's 98B1...|         Watches|          5|            0|          0|   N|                Y|          Five Stars|Heavier than i th...|2015-01-31 00:08:00|\n",
            "|         US|   26339765| RWASY7FKI7QOT|B00R70YEOE|     457338020|Casio - G-Shock -...|         Watches|          5|            2|          3|   N|                Y|  Worth it - love it|Had it for severa...|2015-01-31 00:08:00|\n",
            "|         US|    2692576|R2KKYZIN3CCL21|B000FVE3BG|     824370661|Invicta Men's 332...|         Watches|          5|            0|          0|   N|                Y|This is when diff...|This one is diffe...|2015-01-31 00:08:00|\n",
            "|         US|   44713366|R22H4FGVD5O52O|B008X6JB12|     814431355|Seiko Women's SUT...|         Watches|          4|            1|          1|   N|                Y|Thewatch is attra...|The watch is attr...|2015-01-31 00:08:00|\n",
            "|         US|   32778769|R11UACZERCM4ZY|B0040UOFPW|     187700878|Anne Klein Women'...|         Watches|          5|            0|          0|   N|                Y|          Five Stars|      said my wife..|2015-01-31 00:08:00|\n",
            "|         US|   27258523|R1AT8NQ38UQOL6|B00UR2R5UY|     594315262|Guess U13630G1 Me...|         Watches|          5|            0|          0|   N|                Y|          Five Stars|Nice watch, on ti...|2015-01-31 00:08:00|\n",
            "|         US|   42646538|R2NCZRQGIF1Q75|B00HFF57L0|     520810507|Nixon Men's Geo V...|         Watches|          4|            0|          0|   N|                Y|        Very stylish|Looks great and l...|2015-01-31 00:08:00|\n",
            "+-----------+-----------+--------------+----------+--------------+--------------------+----------------+-----------+-------------+-----------+----+-----------------+--------------------+--------------------+-------------------+\n",
            "only showing top 20 rows\n",
            "\n"
          ]
        }
      ]
    },
    {
      "cell_type": "code",
      "source": [
        "#Count the number of records (rows) in the dataset.\n",
        "print(watch_data_df.count())\n",
        "watch_data_df=watch_data_df.dropDuplicates()\n",
        "watch_data_df=watch_data_df.dropna()\n",
        "print(watch_data_df.count())"
      ],
      "metadata": {
        "id": "x_k8Xej5jOeM",
        "colab": {
          "base_uri": "https://localhost:8080/"
        },
        "outputId": "33246b25-2c04-4dd7-b546-23ed4fc17ce6"
      },
      "execution_count": 86,
      "outputs": [
        {
          "output_type": "stream",
          "name": "stdout",
          "text": [
            "960872\n",
            "960679\n"
          ]
        }
      ]
    },
    {
      "cell_type": "markdown",
      "source": [
        "**Transform the dataset to fit the tables in the schema file.**"
      ],
      "metadata": {
        "id": "qGqewt_7jma6"
      }
    },
    {
      "cell_type": "code",
      "source": [
        "# Load in a sql function to use columns\n",
        "from pyspark.sql.functions import col,to_date"
      ],
      "metadata": {
        "id": "SoZSeOHLz-9w"
      },
      "execution_count": 87,
      "outputs": []
    },
    {
      "cell_type": "markdown",
      "source": [
        "**Review ID Table**"
      ],
      "metadata": {
        "id": "jv1T9us6w0i7"
      }
    },
    {
      "cell_type": "code",
      "source": [
        "review_id_table_df=watch_data_df.select(['review_id','customer_id','product_id','product_parent','review_date'])\n",
        "print(review_id_table_df.count())\n",
        "print(review_id_table_df.distinct().count())\n",
        "review_id_table_df.show()"
      ],
      "metadata": {
        "id": "ajzTbRJzw8Q9",
        "colab": {
          "base_uri": "https://localhost:8080/"
        },
        "outputId": "4dbdba93-90eb-449a-aa16-8d4eae50400f"
      },
      "execution_count": 88,
      "outputs": [
        {
          "output_type": "stream",
          "name": "stdout",
          "text": [
            "960679\n",
            "960679\n",
            "+--------------+-----------+----------+--------------+-------------------+\n",
            "|     review_id|customer_id|product_id|product_parent|        review_date|\n",
            "+--------------+-----------+----------+--------------+-------------------+\n",
            "|R1004K426LTDKN|   15688375|B002XUL6YY|     852892099|2014-01-22 00:05:00|\n",
            "|R1006QGKXQ3Q96|   21739087|B005JVP0LE|     559701518|2014-01-16 00:06:00|\n",
            "|R1017P0ZGRXSR0|    2501262|B0009P66YK|       6220965|2015-01-26 00:02:00|\n",
            "|R103HXXDQD9W4Y|   16842563|B008MVVA2Q|     849986272|2014-01-30 00:12:00|\n",
            "|R10472PWW2S2AW|   52130705|B001D9FGAG|     940154187|2009-01-27 00:01:00|\n",
            "|R104EYLG2ZXXJ1|   41518340|B007I1PLUI|     906701484|2014-01-27 00:11:00|\n",
            "|R105KF16VGOILR|   48845798|B0041IEATO|     950717807|2011-01-02 00:09:00|\n",
            "|R106A2ETV5NZNE|   50381801|B000JQSMQO|     963972840|2012-01-16 00:12:00|\n",
            "|R106UPPPFIIX3P|   42038724|B001CTI5SM|     243892088|2013-01-17 00:08:00|\n",
            "|R107IKXXNUAZZC|    1594613|B00JMPN3RQ|     849006421|2015-01-11 00:08:00|\n",
            "|R1081CHIZX3PZW|   45986458|B000K6HILI|      13227568|2010-01-13 00:05:00|\n",
            "|R1092B4NE0WNDD|   41579481|B0051UMEHG|     732465657|2015-01-22 00:01:00|\n",
            "|R109WVVOK26661|   44657888|B004IBT2D8|     946540922|2015-01-10 00:03:00|\n",
            "|R10AQ92VE5HTJ6|   13461149|B00EAU0IDA|      60629838|2014-01-12 00:03:00|\n",
            "|R10B0JU67L0MDU|   39172276|B000SSPML6|     722719968|2014-01-28 00:05:00|\n",
            "|R10CZGWX0WIAM6|   33679768|B0046CIYAG|     420607996|2013-01-23 00:01:00|\n",
            "|R10DTIJZK1SU21|   13174936|B004RQ5A4O|     835018862|2012-01-18 00:12:00|\n",
            "|R10G1B9243UZU4|    4550966|B006KY5TLK|     369164039|2015-01-05 00:06:00|\n",
            "|R10G2Z75B0VH5S|   17574505|B009S4U1F8|     643298590|2013-01-08 00:12:00|\n",
            "|R10IMWN6T9R3OF|    2688548|B00GG0TSIS|     635911787|2015-01-03 00:02:00|\n",
            "+--------------+-----------+----------+--------------+-------------------+\n",
            "only showing top 20 rows\n",
            "\n"
          ]
        }
      ]
    },
    {
      "cell_type": "markdown",
      "source": [
        "**Customer Table**\n"
      ],
      "metadata": {
        "id": "6XmZuS0Xq3hq"
      }
    },
    {
      "cell_type": "code",
      "source": [
        "customer_df=watch_data_df.select(['customer_id'])\n",
        "customer_df=customer_df.groupBy('customer_id').count()\n",
        "customer_df = customer_df.withColumnRenamed(\"count\", \"customer_count\") \n",
        "customer_df.show()"
      ],
      "metadata": {
        "id": "FOvBVtn0k5_p",
        "colab": {
          "base_uri": "https://localhost:8080/"
        },
        "outputId": "b9c72909-401a-4f55-b468-92c3ced79198"
      },
      "execution_count": 89,
      "outputs": [
        {
          "output_type": "stream",
          "name": "stdout",
          "text": [
            "+-----------+--------------+\n",
            "|customer_id|customer_count|\n",
            "+-----------+--------------+\n",
            "|   45353385|             1|\n",
            "|    7166154|             1|\n",
            "|   27053878|             1|\n",
            "|   33656295|             1|\n",
            "|   34320055|             1|\n",
            "|   12611685|             1|\n",
            "|   26417168|             5|\n",
            "|   16885399|             3|\n",
            "|   49090853|             1|\n",
            "|   48080283|             1|\n",
            "|   12937506|             5|\n",
            "|   42209526|             1|\n",
            "|   36125184|             1|\n",
            "|   50308356|             1|\n",
            "|   13273143|             1|\n",
            "|   30675744|             1|\n",
            "|   10196801|             3|\n",
            "|   10748967|             1|\n",
            "|   44443429|             1|\n",
            "|   15687327|             2|\n",
            "+-----------+--------------+\n",
            "only showing top 20 rows\n",
            "\n"
          ]
        }
      ]
    },
    {
      "cell_type": "markdown",
      "source": [
        "**Product Table**"
      ],
      "metadata": {
        "id": "bv_9EvkcrZFP"
      }
    },
    {
      "cell_type": "code",
      "source": [
        "products_df=watch_data_df.select(['product_id','product_title'])\n",
        "print(products_df.count())\n",
        "print(products_df.distinct().count())\n",
        "products_df=products_df.dropDuplicates()\n",
        "print(products_df.count())\n",
        "products_df.show()"
      ],
      "metadata": {
        "id": "UipNSLW2rcz8",
        "colab": {
          "base_uri": "https://localhost:8080/"
        },
        "outputId": "4d5afb79-9fb2-4710-96f6-c65cd0534901"
      },
      "execution_count": 90,
      "outputs": [
        {
          "output_type": "stream",
          "name": "stdout",
          "text": [
            "960679\n",
            "149694\n",
            "149694\n",
            "+----------+--------------------+\n",
            "|product_id|       product_title|\n",
            "+----------+--------------------+\n",
            "|B00EVX7V1I|Game Time Women's...|\n",
            "|B009S4DODY|XOXO Women's XO55...|\n",
            "|B00LBKXQRW|Anne Klein Women'...|\n",
            "|B0009P679Y|Invicta Men's 993...|\n",
            "|B00DHF30RU|M&c Women's | Cla...|\n",
            "|B00NIDA43Y|GuTe Classic Skel...|\n",
            "|B008EQDDPQ|Nautica Men's N13...|\n",
            "|B004VRBZ66|Timex Men's T2N63...|\n",
            "|B009BEO81I|        Fossil Riley|\n",
            "|B008B39MTI|XOXO Women's XO55...|\n",
            "|B00TGPM8PU|Handmade Wooden W...|\n",
            "|B00VNXQQQ0|Eterna 2520-41-64...|\n",
            "|B00B1PV1C4|Nautica Men's N19...|\n",
            "|B00N1Y8TQ4|Tissot Men's T095...|\n",
            "|B00G6DBTY6|red line Men's RL...|\n",
            "|B00HM04AYI|Columbia Men's Fi...|\n",
            "|B00VI8HB96|GUESS I90176L1 Wo...|\n",
            "|B00IT25WJU|LanTac DGN556B Dr...|\n",
            "|B0106S12XE|Skmei S Shock Ana...|\n",
            "|B00FPSJ63Y|Michael Kors Ladi...|\n",
            "+----------+--------------------+\n",
            "only showing top 20 rows\n",
            "\n"
          ]
        }
      ]
    },
    {
      "cell_type": "markdown",
      "source": [
        "**Vine Table**"
      ],
      "metadata": {
        "id": "nmYSn7f4tbFB"
      }
    },
    {
      "cell_type": "code",
      "source": [
        "vine_table_df=watch_data_df.select(['review_id','star_rating','helpful_votes','total_votes','vine'])\n",
        "print(vine_table_df.count())\n",
        "print(vine_table_df.distinct().count())\n",
        "vine_table_df.show()"
      ],
      "metadata": {
        "id": "7EvyOkFDtfY5",
        "colab": {
          "base_uri": "https://localhost:8080/"
        },
        "outputId": "08a5d902-a812-4d2f-ef67-2185f0e9ed6a"
      },
      "execution_count": 91,
      "outputs": [
        {
          "output_type": "stream",
          "name": "stdout",
          "text": [
            "960679\n",
            "960679\n",
            "+--------------+-----------+-------------+-----------+----+\n",
            "|     review_id|star_rating|helpful_votes|total_votes|vine|\n",
            "+--------------+-----------+-------------+-----------+----+\n",
            "|R1004K426LTDKN|          2|            0|          1|   N|\n",
            "|R1006QGKXQ3Q96|          5|            0|          0|   N|\n",
            "|R1017P0ZGRXSR0|          5|            0|          0|   N|\n",
            "|R103HXXDQD9W4Y|          5|            0|          0|   N|\n",
            "|R10472PWW2S2AW|          4|            0|          0|   N|\n",
            "|R104EYLG2ZXXJ1|          1|            0|          0|   N|\n",
            "|R105KF16VGOILR|          4|            1|          1|   N|\n",
            "|R106A2ETV5NZNE|          5|            0|          0|   N|\n",
            "|R106UPPPFIIX3P|          5|            0|          0|   N|\n",
            "|R107IKXXNUAZZC|          5|            0|          0|   N|\n",
            "|R1081CHIZX3PZW|          4|            1|          1|   N|\n",
            "|R1092B4NE0WNDD|          4|            0|          0|   N|\n",
            "|R109WVVOK26661|          1|            0|          0|   N|\n",
            "|R10AQ92VE5HTJ6|          5|            1|          1|   N|\n",
            "|R10B0JU67L0MDU|          5|            1|          1|   N|\n",
            "|R10CZGWX0WIAM6|          5|            0|          0|   N|\n",
            "|R10DTIJZK1SU21|          5|            0|          0|   N|\n",
            "|R10G1B9243UZU4|          5|            0|          0|   N|\n",
            "|R10G2Z75B0VH5S|          5|            0|          0|   N|\n",
            "|R10IMWN6T9R3OF|          5|            0|          0|   N|\n",
            "+--------------+-----------+-------------+-----------+----+\n",
            "only showing top 20 rows\n",
            "\n"
          ]
        }
      ]
    },
    {
      "cell_type": "markdown",
      "source": [
        "**Loading to Database**"
      ],
      "metadata": {
        "id": "w1a-qLS7rOxS"
      }
    },
    {
      "cell_type": "code",
      "source": [
        "# Configure settings for RDS\n",
        "mode = \"append\"\n",
        "jdbc_url=\"jdbc:postgresql://<connectionstring>:5432/Amazon_Review\"\n",
        "config = {\"user\":\"postgres\", \n",
        "          \"password\": \"<password>\", \n",
        "          \"driver\":\"org.postgresql.Driver\"}"
      ],
      "metadata": {
        "id": "4Zpi0QbunkWt"
      },
      "execution_count": 92,
      "outputs": []
    },
    {
      "cell_type": "code",
      "source": [
        "review_id_table_df.write.jdbc(url=jdbc_url,table='review_id_table',mode=mode,properties=config)"
      ],
      "metadata": {
        "id": "KdVaHaNAyE7c"
      },
      "execution_count": 94,
      "outputs": []
    },
    {
      "cell_type": "code",
      "source": [
        "customer_df.write.jdbc(url=jdbc_url, table='customers', mode=mode, properties=config)"
      ],
      "metadata": {
        "id": "dD-bCpR0n_I-"
      },
      "execution_count": 95,
      "outputs": []
    },
    {
      "cell_type": "code",
      "source": [
        "products_df.write.jdbc(url=jdbc_url,table='products',mode=mode,properties=config)"
      ],
      "metadata": {
        "id": "kRI-Jxb7r1P3"
      },
      "execution_count": 96,
      "outputs": []
    },
    {
      "cell_type": "code",
      "source": [
        "vine_table_df.write.jdbc(url=jdbc_url,table='vine_table',mode=mode,properties=config)"
      ],
      "metadata": {
        "id": "QSrKvXGvv3gR"
      },
      "execution_count": 97,
      "outputs": []
    },
    {
      "cell_type": "markdown",
      "source": [
        "# New Section"
      ],
      "metadata": {
        "id": "aHp8m-zNuFg6"
      }
    }
  ]
}