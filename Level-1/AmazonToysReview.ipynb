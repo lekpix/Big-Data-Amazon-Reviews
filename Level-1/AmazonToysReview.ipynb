{
  "nbformat": 4,
  "nbformat_minor": 0,
  "metadata": {
    "colab": {
      "name": "AmazonToysReview.ipynb",
      "provenance": [],
      "collapsed_sections": []
    },
    "kernelspec": {
      "name": "python3",
      "display_name": "Python 3"
    },
    "language_info": {
      "name": "python"
    }
  },
  "cells": [
    {
      "cell_type": "code",
      "source": [
        "import os\n",
        "# Find the latest version of spark 3.0  from http://www.apache.org/dist/spark/ and enter as the spark version\n",
        "# For example:\n",
        "# spark_version = 'spark-3.0.3'\n",
        "spark_version = 'spark-3.2.0'\n",
        "os.environ['SPARK_VERSION']=spark_version\n",
        "\n",
        "# Install Spark and Java\n",
        "!apt-get update\n",
        "!apt-get install openjdk-8-jdk-headless -qq > /dev/null\n",
        "!wget -q http://www.apache.org/dist/spark/$SPARK_VERSION/$SPARK_VERSION-bin-hadoop2.7.tgz\n",
        "!tar xf $SPARK_VERSION-bin-hadoop2.7.tgz\n",
        "!pip install pyspark\n",
        "!pip install -q findspark\n",
        "\n",
        "# Set Environment Variables\n",
        "os.environ[\"JAVA_HOME\"] = \"/usr/lib/jvm/java-8-openjdk-amd64\"\n",
        "os.environ[\"SPARK_HOME\"] = f\"/content/{spark_version}-bin-hadoop2.7\"\n",
        "\n",
        "# Start a SparkSession\n",
        "import findspark\n",
        "findspark.init()"
      ],
      "metadata": {
        "id": "dwUPgWWBsnHD",
        "colab": {
          "base_uri": "https://localhost:8080/"
        },
        "outputId": "99fad279-7370-4192-f05c-b16dbed94cf7"
      },
      "execution_count": 1,
      "outputs": [
        {
          "output_type": "stream",
          "name": "stdout",
          "text": [
            "\r0% [Working]\r            \rGet:1 https://cloud.r-project.org/bin/linux/ubuntu bionic-cran40/ InRelease [3,626 B]\n",
            "Ign:2 https://developer.download.nvidia.com/compute/cuda/repos/ubuntu1804/x86_64  InRelease\n",
            "Get:3 http://security.ubuntu.com/ubuntu bionic-security InRelease [88.7 kB]\n",
            "Ign:4 https://developer.download.nvidia.com/compute/machine-learning/repos/ubuntu1804/x86_64  InRelease\n",
            "Get:5 https://developer.download.nvidia.com/compute/cuda/repos/ubuntu1804/x86_64  Release [696 B]\n",
            "Hit:6 https://developer.download.nvidia.com/compute/machine-learning/repos/ubuntu1804/x86_64  Release\n",
            "Get:7 https://developer.download.nvidia.com/compute/cuda/repos/ubuntu1804/x86_64  Release.gpg [836 B]\n",
            "Get:8 http://ppa.launchpad.net/c2d4u.team/c2d4u4.0+/ubuntu bionic InRelease [15.9 kB]\n",
            "Hit:9 http://archive.ubuntu.com/ubuntu bionic InRelease\n",
            "Get:10 https://cloud.r-project.org/bin/linux/ubuntu bionic-cran40/ Packages [76.0 kB]\n",
            "Get:11 http://archive.ubuntu.com/ubuntu bionic-updates InRelease [88.7 kB]\n",
            "Hit:13 http://ppa.launchpad.net/cran/libgit2/ubuntu bionic InRelease\n",
            "Get:14 http://archive.ubuntu.com/ubuntu bionic-backports InRelease [74.6 kB]\n",
            "Get:15 http://ppa.launchpad.net/deadsnakes/ppa/ubuntu bionic InRelease [15.9 kB]\n",
            "Get:16 https://developer.download.nvidia.com/compute/cuda/repos/ubuntu1804/x86_64  Packages [872 kB]\n",
            "Hit:17 http://ppa.launchpad.net/graphics-drivers/ppa/ubuntu bionic InRelease\n",
            "Get:18 http://security.ubuntu.com/ubuntu bionic-security/restricted amd64 Packages [738 kB]\n",
            "Get:19 http://security.ubuntu.com/ubuntu bionic-security/main amd64 Packages [2,516 kB]\n",
            "Get:20 http://security.ubuntu.com/ubuntu bionic-security/universe amd64 Packages [1,463 kB]\n",
            "Get:21 http://ppa.launchpad.net/c2d4u.team/c2d4u4.0+/ubuntu bionic/main Sources [1,823 kB]\n",
            "Get:22 http://ppa.launchpad.net/c2d4u.team/c2d4u4.0+/ubuntu bionic/main amd64 Packages [934 kB]\n",
            "Get:23 http://archive.ubuntu.com/ubuntu bionic-updates/restricted amd64 Packages [771 kB]\n",
            "Get:24 http://archive.ubuntu.com/ubuntu bionic-updates/universe amd64 Packages [2,242 kB]\n",
            "Get:25 http://archive.ubuntu.com/ubuntu bionic-updates/main amd64 Packages [2,954 kB]\n",
            "Get:26 http://ppa.launchpad.net/deadsnakes/ppa/ubuntu bionic/main amd64 Packages [45.3 kB]\n",
            "Fetched 14.7 MB in 7s (2,007 kB/s)\n",
            "Reading package lists... Done\n",
            "tar: spark-3.2.0-bin-hadoop2.7.tgz: Cannot open: No such file or directory\n",
            "tar: Error is not recoverable: exiting now\n",
            "Collecting pyspark\n",
            "  Downloading pyspark-3.2.1.tar.gz (281.4 MB)\n",
            "\u001b[K     |████████████████████████████████| 281.4 MB 30 kB/s \n",
            "\u001b[?25hCollecting py4j==0.10.9.3\n",
            "  Downloading py4j-0.10.9.3-py2.py3-none-any.whl (198 kB)\n",
            "\u001b[K     |████████████████████████████████| 198 kB 42.4 MB/s \n",
            "\u001b[?25hBuilding wheels for collected packages: pyspark\n",
            "  Building wheel for pyspark (setup.py) ... \u001b[?25l\u001b[?25hdone\n",
            "  Created wheel for pyspark: filename=pyspark-3.2.1-py2.py3-none-any.whl size=281853642 sha256=07ba179f7e448e9a2b317e771a9ff88ae2d62b4898bd226f4ebcc7de6746bb30\n",
            "  Stored in directory: /root/.cache/pip/wheels/9f/f5/07/7cd8017084dce4e93e84e92efd1e1d5334db05f2e83bcef74f\n",
            "Successfully built pyspark\n",
            "Installing collected packages: py4j, pyspark\n",
            "Successfully installed py4j-0.10.9.3 pyspark-3.2.1\n"
          ]
        }
      ]
    },
    {
      "cell_type": "code",
      "source": [
        "!wget https://jdbc.postgresql.org/download/postgresql-42.2.9.jar"
      ],
      "metadata": {
        "id": "kIXRUdRUrydD",
        "colab": {
          "base_uri": "https://localhost:8080/"
        },
        "outputId": "70c88046-85bd-4cd3-a6e6-390bf9a647f9"
      },
      "execution_count": 2,
      "outputs": [
        {
          "output_type": "stream",
          "name": "stdout",
          "text": [
            "--2022-01-26 20:18:59--  https://jdbc.postgresql.org/download/postgresql-42.2.9.jar\n",
            "Resolving jdbc.postgresql.org (jdbc.postgresql.org)... 72.32.157.228, 2001:4800:3e1:1::228\n",
            "Connecting to jdbc.postgresql.org (jdbc.postgresql.org)|72.32.157.228|:443... connected.\n",
            "HTTP request sent, awaiting response... 200 OK\n",
            "Length: 914037 (893K) [application/java-archive]\n",
            "Saving to: ‘postgresql-42.2.9.jar’\n",
            "\n",
            "postgresql-42.2.9.j 100%[===================>] 892.61K  4.46MB/s    in 0.2s    \n",
            "\n",
            "2022-01-26 20:19:00 (4.46 MB/s) - ‘postgresql-42.2.9.jar’ saved [914037/914037]\n",
            "\n"
          ]
        }
      ]
    },
    {
      "cell_type": "code",
      "source": [
        "from pyspark.sql import SparkSession\n",
        "spark = SparkSession.builder.appName(\"CloudETLAmazonToys\").config(\"spark.driver.extraClassPath\",\"/content/postgresql-42.2.9.jar\").getOrCreate()"
      ],
      "metadata": {
        "id": "vcUATN4zs2Fq"
      },
      "execution_count": 3,
      "outputs": []
    },
    {
      "cell_type": "code",
      "source": [
        "# Read in data from S3 Buckets\n",
        "from pyspark import SparkFiles\n",
        "url=\"https://s3.amazonaws.com/amazon-reviews-pds/tsv/amazon_reviews_us_Toys_v1_00.tsv.gz\"\n",
        "spark.sparkContext.addFile(url)\n",
        "toy_data_df = spark.read.csv(SparkFiles.get(\"amazon_reviews_us_Toys_v1_00.tsv.gz\"), sep=\"\\t\", header=True, inferSchema=True, timestampFormat=\"yyyy-mm-dd\")\n",
        "# Show DataFrame\n",
        "toy_data_df.show()"
      ],
      "metadata": {
        "id": "d2pbZ7K1tBL4",
        "colab": {
          "base_uri": "https://localhost:8080/"
        },
        "outputId": "82dda8e0-6e15-4b65-ac60-533a9316da0d"
      },
      "execution_count": 4,
      "outputs": [
        {
          "output_type": "stream",
          "name": "stdout",
          "text": [
            "+-----------+-----------+--------------+----------+--------------+--------------------+----------------+-----------+-------------+-----------+----+-----------------+--------------------+--------------------+-------------------+\n",
            "|marketplace|customer_id|     review_id|product_id|product_parent|       product_title|product_category|star_rating|helpful_votes|total_votes|vine|verified_purchase|     review_headline|         review_body|        review_date|\n",
            "+-----------+-----------+--------------+----------+--------------+--------------------+----------------+-----------+-------------+-----------+----+-----------------+--------------------+--------------------+-------------------+\n",
            "|         US|   18778586| RDIJS7QYB6XNR|B00EDBY7X8|     122952789|Monopoly Junior B...|            Toys|          5|            0|          0|   N|                Y|          Five Stars|        Excellent!!!|2015-01-31 00:08:00|\n",
            "|         US|   24769659|R36ED1U38IELG8|B00D7JFOPC|     952062646|56 Pieces of Wood...|            Toys|          5|            0|          0|   N|                Y|Good quality trac...|Great quality woo...|2015-01-31 00:08:00|\n",
            "|         US|   44331596| R1UE3RPRGCOLD|B002LHA74O|     818126353|Super Jumbo Playi...|            Toys|          2|            1|          1|   N|                Y|           Two Stars|Cards are not as ...|2015-01-31 00:08:00|\n",
            "|         US|   23310293|R298788GS6I901|B00ARPLCGY|     261944918|Barbie Doll and F...|            Toys|          5|            0|          0|   N|                Y|my daughter loved...|my daughter loved...|2015-01-31 00:08:00|\n",
            "|         US|   38745832|  RNX4EXOBBPN5|B00UZOPOFW|     717410439|Emazing Lights eL...|            Toys|          1|            1|          1|   N|                Y|     DONT BUY THESE!|Do not buy these!...|2015-01-31 00:08:00|\n",
            "|         US|   13394189|R3BPETL222LMIM|B009B7F6CA|     873028700|Melissa & Doug Wa...|            Toys|          5|            0|          0|   N|                Y|          Five Stars|Great item. Pictu...|2015-01-31 00:08:00|\n",
            "|         US|    2749569|R3SORMPJZO3F2J|B0101EHRSM|     723424342|Big Bang Cosmic P...|            Toys|          3|            2|          2|   N|                Y|         Three Stars|To keep together,...|2015-01-31 00:08:00|\n",
            "|         US|   41137196|R2RDOJQ0WBZCF6|B00407S11Y|     383363775|Fun Express Insec...|            Toys|          5|            0|          0|   N|                Y|          Five Stars|I was pleased wit...|2015-01-31 00:08:00|\n",
            "|         US|     433677|R2B8VBEPB4YEZ7|B00FGPU7U2|     780517568|Fisher-Price Octo...|            Toys|          5|            0|          0|   N|                Y|          Five Stars|    Children like it|2015-01-31 00:08:00|\n",
            "|         US|    1297934|R1CB783I7B0U52|B0013OY0S0|     269360126|Claw Climber Goli...|            Toys|          1|            0|          1|   N|                Y|Shame on the sell...|Showed up not how...|2015-01-31 00:08:00|\n",
            "|         US|   52006292| R2D90RQQ3V8LH|B00519PJTW|     493486387|100 Foot Multicol...|            Toys|          5|            0|          0|   N|                Y|          Five Stars|Really liked thes...|2015-01-31 00:08:00|\n",
            "|         US|   32071052|R1Y4ZOUGFMJ327|B001TCY2DO|     459122467|Pig Jumbo Foil Ba...|            Toys|          5|            0|          0|   N|                Y|   Nice huge balloon|Nice huge balloon...|2015-01-31 00:08:00|\n",
            "|         US|    7360347|R2BUV9QJI2A00X|B00DOQCWF8|     226984155|Minecraft Animal ...|            Toys|          5|            0|          1|   N|                Y|          Five Stars|          Great deal|2015-01-31 00:08:00|\n",
            "|         US|   11613707| RSUHRJFJIRB3Z|B004C04I4I|     375659886|Disney Baby: Eeyo...|            Toys|          4|            0|          0|   N|                Y|          Four Stars|       As Advertised|2015-01-31 00:08:00|\n",
            "|         US|   13545982|R1T96CG98BBA15|B00NWGEKBY|     933734136|Team Losi 8IGHT-E...|            Toys|          3|            2|          4|   N|                Y|... servo so expe...|Comes w a 15$ ser...|2015-01-31 00:08:00|\n",
            "|         US|   43880421| R2ATXF4QQ30YW|B00000JS5S|     341842639|Hot Wheels 48- Ca...|            Toys|          5|            0|          0|   N|                Y|          Five Stars|   awesome ! Thanks!|2015-01-31 00:08:00|\n",
            "|         US|    1662075|R1YS3DS218NNMD|B00XPWXYDK|     210135375|ZuZo 2.4GHz 4 CH ...|            Toys|          5|            4|          4|   N|                N|The closest relev...|I got this item f...|2015-01-31 00:08:00|\n",
            "|         US|   18461411|R2SDXLTLF92O0H|B00VPXX92W|     705054378|Teenage Mutant Ni...|            Toys|          5|            0|          0|   N|                Y|          Five Stars|It was a birthday...|2015-01-31 00:08:00|\n",
            "|         US|   27225859| R4R337CCDWLNG|B00YRA3H4U|     223420727|Franklin Sports M...|            Toys|          3|            0|          1|   Y|                N|Got wrong product...|Got a wrong produ...|2015-01-31 00:08:00|\n",
            "|         US|   20494593|R32Z6UA4S5Q630|B009T8BSQY|     787701676|Alien Frontiers: ...|            Toys|          1|            0|          0|   N|                Y|         Overpriced.|You need expansio...|2015-01-31 00:08:00|\n",
            "+-----------+-----------+--------------+----------+--------------+--------------------+----------------+-----------+-------------+-----------+----+-----------------+--------------------+--------------------+-------------------+\n",
            "only showing top 20 rows\n",
            "\n"
          ]
        }
      ]
    },
    {
      "cell_type": "code",
      "source": [
        "#Count the number of records (rows) in the dataset.\n",
        "print(toy_data_df.count())\n",
        "toy_data_df=toy_data_df.dropDuplicates()\n",
        "toy_data_df=toy_data_df.dropna()\n",
        "print(toy_data_df.count())"
      ],
      "metadata": {
        "id": "x_k8Xej5jOeM",
        "colab": {
          "base_uri": "https://localhost:8080/"
        },
        "outputId": "3de653cd-e43b-411b-ded5-e824aeeedce2"
      },
      "execution_count": 5,
      "outputs": [
        {
          "output_type": "stream",
          "name": "stdout",
          "text": [
            "4864249\n",
            "4863497\n"
          ]
        }
      ]
    },
    {
      "cell_type": "markdown",
      "source": [
        "**Transform the dataset to fit the tables in the schema file.**"
      ],
      "metadata": {
        "id": "qGqewt_7jma6"
      }
    },
    {
      "cell_type": "code",
      "source": [
        "# Load in a sql function to use columns\n",
        "from pyspark.sql.functions import col,to_date"
      ],
      "metadata": {
        "id": "SoZSeOHLz-9w"
      },
      "execution_count": 6,
      "outputs": []
    },
    {
      "cell_type": "markdown",
      "source": [
        "**Review ID Table**"
      ],
      "metadata": {
        "id": "jv1T9us6w0i7"
      }
    },
    {
      "cell_type": "code",
      "source": [
        "review_id_table_df=toy_data_df.select(['review_id','customer_id','product_id','product_parent','review_date'])\n",
        "print(review_id_table_df.count())\n",
        "print(review_id_table_df.distinct().count())\n",
        "review_id_table_df.show(5)"
      ],
      "metadata": {
        "id": "ajzTbRJzw8Q9",
        "colab": {
          "base_uri": "https://localhost:8080/"
        },
        "outputId": "7301117d-e3a1-4bbc-948d-eefe8ae40e94"
      },
      "execution_count": 7,
      "outputs": [
        {
          "output_type": "stream",
          "name": "stdout",
          "text": [
            "4863497\n",
            "4863497\n",
            "+--------------+-----------+----------+--------------+-------------------+\n",
            "|     review_id|customer_id|product_id|product_parent|        review_date|\n",
            "+--------------+-----------+----------+--------------+-------------------+\n",
            "|R100FHBHYPZTQP|   45689333|B00146G71U|     337661758|2015-01-16 00:01:00|\n",
            "| R1019T4WSRNZR|    4793524|B00262SNBI|     257790875|2014-01-21 00:03:00|\n",
            "|R10218N1NMX46P|   32005660|B00K0PVVAI|     931670277|2014-01-28 00:09:00|\n",
            "|R1024Y1W1EQDZ3|    4726506|B00BGZLSJK|     916634683|2013-01-02 00:04:00|\n",
            "|R1029KDS040YBY|   19752183|B007YD77MK|     993813478|2013-01-18 00:01:00|\n",
            "|R102BTUCOTG4HN|   24005420|B0027FFPJC|     388549569|2010-01-26 00:12:00|\n",
            "|R102IMDHQMC5S0|   44902834|B001P5GRYW|     496075093|2009-01-23 00:04:00|\n",
            "| R102J7VZ9Q8Z1|   25053850|B001USHRYI|     625435419|2009-01-26 00:08:00|\n",
            "|R102PIFZ2BY5E2|   15694296|B004P13H5U|     173176560|2014-01-16 00:01:00|\n",
            "|R102REHQU6V176|   45261348|B00160DXNE|     112689753|2015-01-20 00:03:00|\n",
            "|R102T6WA4AP028|   30161636|B0002HL0BO|      51324281|2005-01-01 00:02:00|\n",
            "|R102U3DV9AUAUR|   15688310|B005N6Z1SC|     500565974|2013-01-22 00:01:00|\n",
            "|R10373WGOF7NH0|   51242701|B001FOM4V8|     726087984|2012-01-25 00:03:00|\n",
            "|R1037MRBABLNXG|   35173363|B000CCDQDE|     728694329|2011-01-17 00:08:00|\n",
            "|R1039MN0IDRO7O|   51095568|B00APVXSM6|     844779513|2015-01-18 00:01:00|\n",
            "|R103A6O9URA259|   44675833|B00JLHW0IS|     940640388|2015-01-14 00:01:00|\n",
            "|R103CV94EOII3U|   46673701|B001PPT4EC|     387367574|2014-01-29 00:09:00|\n",
            "|R103REUBFKTFDL|   15992290|B002RQU3VQ|     818490730|2014-01-28 00:09:00|\n",
            "|R1040VO225NI72|   11128973|B000809NZK|     454350198|2014-01-02 00:12:00|\n",
            "|R10441TBAE8MOW|   24204732|B000GI0S4E|     687588611|2008-01-26 00:06:00|\n",
            "+--------------+-----------+----------+--------------+-------------------+\n",
            "only showing top 20 rows\n",
            "\n"
          ]
        }
      ]
    },
    {
      "cell_type": "markdown",
      "source": [
        "**Customer Table**\n"
      ],
      "metadata": {
        "id": "6XmZuS0Xq3hq"
      }
    },
    {
      "cell_type": "code",
      "source": [
        "customer_df=toy_data_df.select(['customer_id'])\n",
        "customer_df=customer_df.groupBy('customer_id').count()\n",
        "customer_df = customer_df.withColumnRenamed(\"count\", \"customer_count\") \n",
        "customer_df=customer_df.dropDuplicates()\n",
        "customer_df.show()"
      ],
      "metadata": {
        "id": "FOvBVtn0k5_p",
        "colab": {
          "base_uri": "https://localhost:8080/"
        },
        "outputId": "2bc75ecf-3577-4f0d-e0c7-9488c0cbb680"
      },
      "execution_count": 14,
      "outputs": [
        {
          "output_type": "stream",
          "name": "stdout",
          "text": [
            "+-----------+--------------+\n",
            "|customer_id|customer_count|\n",
            "+-----------+--------------+\n",
            "|    4409437|             5|\n",
            "|   23810272|             1|\n",
            "|   44015381|             9|\n",
            "|   22827350|             2|\n",
            "|    6074522|             7|\n",
            "|   33326996|             2|\n",
            "|   10165796|             2|\n",
            "|   37822161|            11|\n",
            "|   45802649|            17|\n",
            "|   27632536|             3|\n",
            "|   18068011|            18|\n",
            "|   26354432|             4|\n",
            "|   40453343|             5|\n",
            "|   15404449|            13|\n",
            "|     729725|             8|\n",
            "|   15508207|            11|\n",
            "|   21866561|             1|\n",
            "|   33795243|             1|\n",
            "|   13913228|             7|\n",
            "|   42957529|             2|\n",
            "+-----------+--------------+\n",
            "only showing top 20 rows\n",
            "\n"
          ]
        }
      ]
    },
    {
      "cell_type": "markdown",
      "source": [
        "**Product Table**"
      ],
      "metadata": {
        "id": "bv_9EvkcrZFP"
      }
    },
    {
      "cell_type": "code",
      "source": [
        "products_df=toy_data_df.select(['product_id','product_title'])\n",
        "print(products_df.count())\n",
        "print(products_df.distinct().count())\n",
        "products_df=products_df.dropDuplicates()\n",
        "print(products_df.count())\n",
        "products_df.show()"
      ],
      "metadata": {
        "id": "UipNSLW2rcz8",
        "colab": {
          "base_uri": "https://localhost:8080/"
        },
        "outputId": "0a4ccdef-d508-4121-e532-a2e35ef4d827"
      },
      "execution_count": 9,
      "outputs": [
        {
          "output_type": "stream",
          "name": "stdout",
          "text": [
            "4863497\n",
            "663991\n",
            "663991\n",
            "+----------+--------------------+\n",
            "|product_id|       product_title|\n",
            "+----------+--------------------+\n",
            "|B00IANTUPU|Lego, Star Wars, ...|\n",
            "|B002TMK962|Rock - Concert Ti...|\n",
            "|B00AOTTSQY|Adult & Children ...|\n",
            "|B00CH3O5S6|48 Wholesale Wood...|\n",
            "|B00MF3SAF2|Teenitor 3.7V 680...|\n",
            "|B004D0C5WY|ThinkMax Silver B...|\n",
            "|B00NHQHJZS|LEGO Technic Arct...|\n",
            "|B00NQJ2DBG|Super Bright Long...|\n",
            "|B0082IGA06|Yu-Gi-Oh! - Dark ...|\n",
            "|1609581520|American Girl Car...|\n",
            "|B004RGYVLC|DC Comics POP Her...|\n",
            "|B0053EX3D4|Inuyasha Kirara T...|\n",
            "|B00OTLHNI8|Bloco Toys T-Rex ...|\n",
            "|B00BXEYI8W|Kid Galaxy Robot ...|\n",
            "|B00JUG2NSM|Weiss Schwarz Kil...|\n",
            "|B00LVPY252|Maxx Action 30\" T...|\n",
            "|B00IGRHWSC|Mattel Hot Wheels...|\n",
            "|B00U6FU3YM|Educational Insig...|\n",
            "|B00Z7FS3Q6|Beach Ball Set, 3...|\n",
            "|B000WEAGTY|Inflatable Tradit...|\n",
            "+----------+--------------------+\n",
            "only showing top 20 rows\n",
            "\n"
          ]
        }
      ]
    },
    {
      "cell_type": "markdown",
      "source": [
        "**Vine Table**"
      ],
      "metadata": {
        "id": "nmYSn7f4tbFB"
      }
    },
    {
      "cell_type": "code",
      "source": [
        "vine_table_df=toy_data_df.select(['review_id','star_rating','helpful_votes','total_votes','vine'])\n",
        "print(vine_table_df.count())\n",
        "print(vine_table_df.distinct().count())\n",
        "vine_table_df.show()"
      ],
      "metadata": {
        "id": "7EvyOkFDtfY5",
        "colab": {
          "base_uri": "https://localhost:8080/"
        },
        "outputId": "24452169-a0d1-41cc-c3b4-e1871a3c4681"
      },
      "execution_count": 10,
      "outputs": [
        {
          "output_type": "stream",
          "name": "stdout",
          "text": [
            "4863497\n",
            "4863497\n",
            "+--------------+-----------+-------------+-----------+----+\n",
            "|     review_id|star_rating|helpful_votes|total_votes|vine|\n",
            "+--------------+-----------+-------------+-----------+----+\n",
            "|R100FHBHYPZTQP|          4|            0|          0|   N|\n",
            "| R1019T4WSRNZR|          5|            2|          2|   N|\n",
            "|R10218N1NMX46P|          5|            0|          0|   N|\n",
            "|R1024Y1W1EQDZ3|          2|            1|          2|   N|\n",
            "|R1029KDS040YBY|          5|            0|          0|   N|\n",
            "|R102BTUCOTG4HN|          5|            0|          0|   N|\n",
            "|R102IMDHQMC5S0|          3|            0|          0|   N|\n",
            "| R102J7VZ9Q8Z1|          5|            5|          5|   N|\n",
            "|R102PIFZ2BY5E2|          4|            0|          0|   N|\n",
            "|R102REHQU6V176|          5|            0|          0|   N|\n",
            "|R102T6WA4AP028|          1|            7|          7|   N|\n",
            "|R102U3DV9AUAUR|          5|            3|          3|   N|\n",
            "|R10373WGOF7NH0|          2|            1|          1|   N|\n",
            "|R1037MRBABLNXG|          3|            0|          0|   N|\n",
            "|R1039MN0IDRO7O|          5|            2|          2|   N|\n",
            "|R103A6O9URA259|          4|            0|          0|   N|\n",
            "|R103CV94EOII3U|          4|            0|          1|   N|\n",
            "|R103REUBFKTFDL|          5|            0|          0|   N|\n",
            "|R1040VO225NI72|          5|            0|          0|   N|\n",
            "|R10441TBAE8MOW|          4|            1|          1|   N|\n",
            "+--------------+-----------+-------------+-----------+----+\n",
            "only showing top 20 rows\n",
            "\n"
          ]
        }
      ]
    },
    {
      "cell_type": "markdown",
      "source": [
        "**Loading to Database**"
      ],
      "metadata": {
        "id": "w1a-qLS7rOxS"
      }
    },
    {
      "cell_type": "code",
      "source": [
        "# Configure settings for RDS\n",
        "mode = \"append\"\n",
        "jdbc_url=\"jdbc:postgresql://<connection string>:5432/Amazon_Review\"\n",
        "config = {\"user\":\"postgres\", \n",
        "          \"password\": \"<password>\", \n",
        "          \"driver\":\"org.postgresql.Driver\"}"
      ],
      "metadata": {
        "id": "4Zpi0QbunkWt"
      },
      "execution_count": 11,
      "outputs": []
    },
    {
      "cell_type": "code",
      "source": [
        "review_id_table_df.write.jdbc(url=jdbc_url,table='review_id_table',mode=mode,properties=config)"
      ],
      "metadata": {
        "id": "KdVaHaNAyE7c"
      },
      "execution_count": 12,
      "outputs": []
    },
    {
      "cell_type": "code",
      "source": [
        "customer_df.write.jdbc(url=jdbc_url, table='customers', mode=mode, properties=config)"
      ],
      "metadata": {
        "id": "dD-bCpR0n_I-"
      },
      "execution_count": 16,
      "outputs": []
    },
    {
      "cell_type": "code",
      "source": [
        "products_df.write.jdbc(url=jdbc_url,table='products',mode=mode,properties=config)"
      ],
      "metadata": {
        "id": "kRI-Jxb7r1P3"
      },
      "execution_count": 17,
      "outputs": []
    },
    {
      "cell_type": "code",
      "source": [
        "vine_table_df.write.jdbc(url=jdbc_url,table='vine_table',mode=mode,properties=config)"
      ],
      "metadata": {
        "id": "QSrKvXGvv3gR"
      },
      "execution_count": 18,
      "outputs": []
    },
    {
      "cell_type": "markdown",
      "source": [
        "# New Section"
      ],
      "metadata": {
        "id": "aHp8m-zNuFg6"
      }
    }
  ]
}