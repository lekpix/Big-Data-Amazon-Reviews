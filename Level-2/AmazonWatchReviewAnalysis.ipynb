{
  "nbformat": 4,
  "nbformat_minor": 0,
  "metadata": {
    "colab": {
      "name": "AmazonWatchReviewAnalysis.ipynb",
      "provenance": [],
      "collapsed_sections": []
    },
    "kernelspec": {
      "name": "python3",
      "display_name": "Python 3"
    },
    "language_info": {
      "name": "python"
    }
  },
  "cells": [
    {
      "cell_type": "code",
      "source": [
        "import os\n",
        "# Find the latest version of spark 3.0  from http://www.apache.org/dist/spark/ and enter as the spark version\n",
        "# For example:\n",
        "# spark_version = 'spark-3.0.3'\n",
        "spark_version = 'spark-3.2.0'\n",
        "os.environ['SPARK_VERSION']=spark_version\n",
        "\n",
        "# Install Spark and Java\n",
        "!apt-get update\n",
        "!apt-get install openjdk-8-jdk-headless -qq > /dev/null\n",
        "!wget -q http://www.apache.org/dist/spark/$SPARK_VERSION/$SPARK_VERSION-bin-hadoop2.7.tgz\n",
        "!tar xf $SPARK_VERSION-bin-hadoop2.7.tgz\n",
        "!pip install pyspark\n",
        "!pip install -q findspark\n",
        "\n",
        "# Set Environment Variables\n",
        "os.environ[\"JAVA_HOME\"] = \"/usr/lib/jvm/java-8-openjdk-amd64\"\n",
        "os.environ[\"SPARK_HOME\"] = f\"/content/{spark_version}-bin-hadoop2.7\"\n",
        "\n",
        "# Start a SparkSession\n",
        "import findspark\n",
        "findspark.init()"
      ],
      "metadata": {
        "id": "dwUPgWWBsnHD",
        "colab": {
          "base_uri": "https://localhost:8080/"
        },
        "outputId": "dee895c3-20f1-4b20-e587-52a26bf75df3"
      },
      "execution_count": 1,
      "outputs": [
        {
          "output_type": "stream",
          "name": "stdout",
          "text": [
            "\r0% [Working]\r            \rGet:1 https://cloud.r-project.org/bin/linux/ubuntu bionic-cran40/ InRelease [3,626 B]\n",
            "\r0% [Connecting to archive.ubuntu.com (91.189.88.142)] [Waiting for headers] [1 \r0% [Connecting to archive.ubuntu.com (91.189.88.142)] [Waiting for headers] [Co\r0% [1 InRelease gpgv 3,626 B] [Connecting to archive.ubuntu.com (91.189.88.142)\r                                                                               \rIgn:2 https://developer.download.nvidia.com/compute/cuda/repos/ubuntu1804/x86_64  InRelease\n",
            "Get:3 http://security.ubuntu.com/ubuntu bionic-security InRelease [88.7 kB]\n",
            "Ign:4 https://developer.download.nvidia.com/compute/machine-learning/repos/ubuntu1804/x86_64  InRelease\n",
            "Get:5 https://developer.download.nvidia.com/compute/cuda/repos/ubuntu1804/x86_64  Release [696 B]\n",
            "Hit:6 https://developer.download.nvidia.com/compute/machine-learning/repos/ubuntu1804/x86_64  Release\n",
            "Get:7 https://developer.download.nvidia.com/compute/cuda/repos/ubuntu1804/x86_64  Release.gpg [836 B]\n",
            "Get:8 http://ppa.launchpad.net/c2d4u.team/c2d4u4.0+/ubuntu bionic InRelease [15.9 kB]\n",
            "Hit:9 http://archive.ubuntu.com/ubuntu bionic InRelease\n",
            "Get:10 http://archive.ubuntu.com/ubuntu bionic-updates InRelease [88.7 kB]\n",
            "Get:11 https://cloud.r-project.org/bin/linux/ubuntu bionic-cran40/ Packages [76.0 kB]\n",
            "Hit:12 http://ppa.launchpad.net/cran/libgit2/ubuntu bionic InRelease\n",
            "Get:13 http://ppa.launchpad.net/deadsnakes/ppa/ubuntu bionic InRelease [15.9 kB]\n",
            "Get:14 http://archive.ubuntu.com/ubuntu bionic-backports InRelease [74.6 kB]\n",
            "Hit:16 http://ppa.launchpad.net/graphics-drivers/ppa/ubuntu bionic InRelease\n",
            "Get:17 https://developer.download.nvidia.com/compute/cuda/repos/ubuntu1804/x86_64  Packages [872 kB]\n",
            "Get:18 http://security.ubuntu.com/ubuntu bionic-security/restricted amd64 Packages [738 kB]\n",
            "Get:19 http://security.ubuntu.com/ubuntu bionic-security/main amd64 Packages [2,516 kB]\n",
            "Get:20 http://security.ubuntu.com/ubuntu bionic-security/universe amd64 Packages [1,463 kB]\n",
            "Get:21 http://ppa.launchpad.net/c2d4u.team/c2d4u4.0+/ubuntu bionic/main Sources [1,823 kB]\n",
            "Get:22 http://archive.ubuntu.com/ubuntu bionic-updates/restricted amd64 Packages [771 kB]\n",
            "Get:23 http://archive.ubuntu.com/ubuntu bionic-updates/main amd64 Packages [2,954 kB]\n",
            "Get:24 http://ppa.launchpad.net/c2d4u.team/c2d4u4.0+/ubuntu bionic/main amd64 Packages [934 kB]\n",
            "Get:25 http://archive.ubuntu.com/ubuntu bionic-updates/universe amd64 Packages [2,242 kB]\n",
            "Get:26 http://ppa.launchpad.net/deadsnakes/ppa/ubuntu bionic/main amd64 Packages [45.3 kB]\n",
            "Fetched 14.7 MB in 7s (2,066 kB/s)\n",
            "Reading package lists... Done\n",
            "tar: spark-3.2.0-bin-hadoop2.7.tgz: Cannot open: No such file or directory\n",
            "tar: Error is not recoverable: exiting now\n",
            "Collecting pyspark\n",
            "  Downloading pyspark-3.2.1.tar.gz (281.4 MB)\n",
            "\u001b[K     |████████████████████████████████| 281.4 MB 29 kB/s \n",
            "\u001b[?25hCollecting py4j==0.10.9.3\n",
            "  Downloading py4j-0.10.9.3-py2.py3-none-any.whl (198 kB)\n",
            "\u001b[K     |████████████████████████████████| 198 kB 45.4 MB/s \n",
            "\u001b[?25hBuilding wheels for collected packages: pyspark\n",
            "  Building wheel for pyspark (setup.py) ... \u001b[?25l\u001b[?25hdone\n",
            "  Created wheel for pyspark: filename=pyspark-3.2.1-py2.py3-none-any.whl size=281853642 sha256=062ae5189ef142b824e5ac0ba0dbc8dc41c9bf7eeca480946a4e2b872197a548\n",
            "  Stored in directory: /root/.cache/pip/wheels/9f/f5/07/7cd8017084dce4e93e84e92efd1e1d5334db05f2e83bcef74f\n",
            "Successfully built pyspark\n",
            "Installing collected packages: py4j, pyspark\n",
            "Successfully installed py4j-0.10.9.3 pyspark-3.2.1\n"
          ]
        }
      ]
    },
    {
      "cell_type": "code",
      "source": [
        "!wget https://jdbc.postgresql.org/download/postgresql-42.2.9.jar"
      ],
      "metadata": {
        "id": "kIXRUdRUrydD",
        "colab": {
          "base_uri": "https://localhost:8080/"
        },
        "outputId": "7792e75a-09ed-40c5-9e6f-c17370fdd357"
      },
      "execution_count": 2,
      "outputs": [
        {
          "output_type": "stream",
          "name": "stdout",
          "text": [
            "--2022-01-27 00:50:13--  https://jdbc.postgresql.org/download/postgresql-42.2.9.jar\n",
            "Resolving jdbc.postgresql.org (jdbc.postgresql.org)... 72.32.157.228, 2001:4800:3e1:1::228\n",
            "Connecting to jdbc.postgresql.org (jdbc.postgresql.org)|72.32.157.228|:443... connected.\n",
            "HTTP request sent, awaiting response... 200 OK\n",
            "Length: 914037 (893K) [application/java-archive]\n",
            "Saving to: ‘postgresql-42.2.9.jar’\n",
            "\n",
            "postgresql-42.2.9.j 100%[===================>] 892.61K  4.49MB/s    in 0.2s    \n",
            "\n",
            "2022-01-27 00:50:14 (4.49 MB/s) - ‘postgresql-42.2.9.jar’ saved [914037/914037]\n",
            "\n"
          ]
        }
      ]
    },
    {
      "cell_type": "code",
      "source": [
        "from pyspark.sql import SparkSession\n",
        "spark = SparkSession.builder.appName(\"AmazonReviewAnalysis\").config(\"spark.driver.extraClassPath\",\"/content/postgresql-42.2.9.jar\").getOrCreate()"
      ],
      "metadata": {
        "id": "vcUATN4zs2Fq"
      },
      "execution_count": 3,
      "outputs": []
    },
    {
      "cell_type": "code",
      "source": [
        "# Read in data from S3 Buckets\n",
        "from pyspark import SparkFiles\n",
        "url=\"https://s3.amazonaws.com/amazon-reviews-pds/tsv/amazon_reviews_us_Watches_v1_00.tsv.gz\"\n",
        "spark.sparkContext.addFile(url)\n",
        "watch_data_df = spark.read.csv(SparkFiles.get(\"amazon_reviews_us_Watches_v1_00.tsv.gz\"), sep=\"\\t\", header=True, inferSchema=True, timestampFormat=\"yyyy-mm-dd\")\n",
        "# Show DataFrame\n",
        "watch_data_df.show()"
      ],
      "metadata": {
        "id": "d2pbZ7K1tBL4",
        "colab": {
          "base_uri": "https://localhost:8080/"
        },
        "outputId": "3bed65c9-e199-49c5-dba6-058c6a41865f"
      },
      "execution_count": 4,
      "outputs": [
        {
          "output_type": "stream",
          "name": "stdout",
          "text": [
            "+-----------+-----------+--------------+----------+--------------+--------------------+----------------+-----------+-------------+-----------+----+-----------------+--------------------+--------------------+-------------------+\n",
            "|marketplace|customer_id|     review_id|product_id|product_parent|       product_title|product_category|star_rating|helpful_votes|total_votes|vine|verified_purchase|     review_headline|         review_body|        review_date|\n",
            "+-----------+-----------+--------------+----------+--------------+--------------------+----------------+-----------+-------------+-----------+----+-----------------+--------------------+--------------------+-------------------+\n",
            "|         US|    3653882|R3O9SGZBVQBV76|B00FALQ1ZC|     937001370|Invicta Women's 1...|         Watches|          5|            0|          0|   N|                Y|          Five Stars|Absolutely love t...|2015-01-31 00:08:00|\n",
            "|         US|   14661224| RKH8BNC3L5DLF|B00D3RGO20|     484010722|Kenneth Cole New ...|         Watches|          5|            0|          0|   N|                Y|I love thiswatch ...|I love this watch...|2015-01-31 00:08:00|\n",
            "|         US|   27324930|R2HLE8WKZSU3NL|B00DKYC7TK|     361166390|Ritche 22mm Black...|         Watches|          2|            1|          1|   N|                Y|           Two Stars|           Scratches|2015-01-31 00:08:00|\n",
            "|         US|    7211452|R31U3UH5AZ42LL|B000EQS1JW|     958035625|Citizen Men's BM8...|         Watches|          5|            0|          0|   N|                Y|          Five Stars|It works well on ...|2015-01-31 00:08:00|\n",
            "|         US|   12733322|R2SV659OUJ945Y|B00A6GFD7S|     765328221|Orient ER27009B M...|         Watches|          4|            0|          0|   N|                Y|Beautiful face, b...|Beautiful watch f...|2015-01-31 00:08:00|\n",
            "|         US|    6576411| RA51CP8TR5A2L|B00EYSOSE8|     230493695|Casio Men's GW-94...|         Watches|          5|            0|          0|   N|                Y|       No complaints|i love this watch...|2015-01-31 00:08:00|\n",
            "|         US|   11811565| RB2Q7DLDN6TH6|B00WM0QA3M|     549298279|Fossil Women's ES...|         Watches|          5|            1|          1|   N|                Y|          Five Stars|for my wife and s...|2015-01-31 00:08:00|\n",
            "|         US|   49401598|R2RHFJV0UYBK3Y|B00A4EYBR0|     844009113|INFANTRY Mens Nig...|         Watches|          1|            1|          5|   N|                N|I was about to bu...|I was about to bu...|2015-01-31 00:08:00|\n",
            "|         US|   45925069|R2Z6JOQ94LFHEP|B00MAMPGGE|     263720892|G-Shock Men's Gre...|         Watches|          5|            1|          2|   N|                Y|      Perfect watch!|Watch is perfect....|2015-01-31 00:08:00|\n",
            "|         US|   44751341| RX27XIIWY5JPB|B004LBPB7Q|     124278407|Heiden Quad Watch...|         Watches|          4|            0|          0|   N|                Y|Great quality and...|Great quality and...|2015-01-31 00:08:00|\n",
            "|         US|    9962330|R15C7QEZT0LGZN|B00KGTVGKS|      28017857|Fossil Women's ES...|         Watches|          4|            2|          2|   N|                Y|           Satisfied|The watch was pre...|2015-01-31 00:08:00|\n",
            "|         US|   16097204|R361XSS37V0NCZ|B0039UT5OU|     685450910|Casio General Men...|         Watches|          1|            0|          0|   N|                N|I do not think th...|I bought this wat...|2015-01-31 00:08:00|\n",
            "|         US|   51330346| ROTNLALUAJAUB|B00MPF0XJQ|     767769082|2Tone Gold Silver...|         Watches|          3|            0|          0|   N|                Y|         Three Stars|It is a cheap wat...|2015-01-31 00:08:00|\n",
            "|         US|    4201739|R2DYX7QU6BGOHR|B003P1OHHS|     648595227|Bulova Men's 98B1...|         Watches|          5|            0|          0|   N|                Y|          Five Stars|Heavier than i th...|2015-01-31 00:08:00|\n",
            "|         US|   26339765| RWASY7FKI7QOT|B00R70YEOE|     457338020|Casio - G-Shock -...|         Watches|          5|            2|          3|   N|                Y|  Worth it - love it|Had it for severa...|2015-01-31 00:08:00|\n",
            "|         US|    2692576|R2KKYZIN3CCL21|B000FVE3BG|     824370661|Invicta Men's 332...|         Watches|          5|            0|          0|   N|                Y|This is when diff...|This one is diffe...|2015-01-31 00:08:00|\n",
            "|         US|   44713366|R22H4FGVD5O52O|B008X6JB12|     814431355|Seiko Women's SUT...|         Watches|          4|            1|          1|   N|                Y|Thewatch is attra...|The watch is attr...|2015-01-31 00:08:00|\n",
            "|         US|   32778769|R11UACZERCM4ZY|B0040UOFPW|     187700878|Anne Klein Women'...|         Watches|          5|            0|          0|   N|                Y|          Five Stars|      said my wife..|2015-01-31 00:08:00|\n",
            "|         US|   27258523|R1AT8NQ38UQOL6|B00UR2R5UY|     594315262|Guess U13630G1 Me...|         Watches|          5|            0|          0|   N|                Y|          Five Stars|Nice watch, on ti...|2015-01-31 00:08:00|\n",
            "|         US|   42646538|R2NCZRQGIF1Q75|B00HFF57L0|     520810507|Nixon Men's Geo V...|         Watches|          4|            0|          0|   N|                Y|        Very stylish|Looks great and l...|2015-01-31 00:08:00|\n",
            "+-----------+-----------+--------------+----------+--------------+--------------------+----------------+-----------+-------------+-----------+----+-----------------+--------------------+--------------------+-------------------+\n",
            "only showing top 20 rows\n",
            "\n"
          ]
        }
      ]
    },
    {
      "cell_type": "code",
      "source": [
        "#Count the number of records (rows) in the dataset.\n",
        "print(watch_data_df.count())\n",
        "watch_data_df=watch_data_df.dropDuplicates()\n",
        "watch_data_df=watch_data_df.dropna()\n",
        "print(watch_data_df.count())"
      ],
      "metadata": {
        "id": "x_k8Xej5jOeM",
        "colab": {
          "base_uri": "https://localhost:8080/"
        },
        "outputId": "57ddd4c3-9977-41cc-86ae-fef1d29b9494"
      },
      "execution_count": 5,
      "outputs": [
        {
          "output_type": "stream",
          "name": "stdout",
          "text": [
            "960872\n",
            "960679\n"
          ]
        }
      ]
    },
    {
      "cell_type": "code",
      "source": [
        "# Load in a sql function to use columns\n",
        "from pyspark.sql.functions import col,desc"
      ],
      "metadata": {
        "id": "SoZSeOHLz-9w"
      },
      "execution_count": 12,
      "outputs": []
    },
    {
      "cell_type": "markdown",
      "source": [
        "**Vine Table**"
      ],
      "metadata": {
        "id": "nmYSn7f4tbFB"
      }
    },
    {
      "cell_type": "code",
      "source": [
        "vine_table_df=watch_data_df.select(['review_id','star_rating','helpful_votes','total_votes','vine'])\n",
        "print(vine_table_df.count())\n",
        "print(vine_table_df.distinct().count())\n",
        "vine_table_df.show()"
      ],
      "metadata": {
        "id": "7EvyOkFDtfY5",
        "colab": {
          "base_uri": "https://localhost:8080/"
        },
        "outputId": "a622b13c-f01a-4ee4-9b51-fbe65689f1b3"
      },
      "execution_count": 7,
      "outputs": [
        {
          "output_type": "stream",
          "name": "stdout",
          "text": [
            "960679\n",
            "960679\n",
            "+--------------+-----------+-------------+-----------+----+\n",
            "|     review_id|star_rating|helpful_votes|total_votes|vine|\n",
            "+--------------+-----------+-------------+-----------+----+\n",
            "|R1004K426LTDKN|          2|            0|          1|   N|\n",
            "|R1006QGKXQ3Q96|          5|            0|          0|   N|\n",
            "|R1017P0ZGRXSR0|          5|            0|          0|   N|\n",
            "|R103HXXDQD9W4Y|          5|            0|          0|   N|\n",
            "|R10472PWW2S2AW|          4|            0|          0|   N|\n",
            "|R104EYLG2ZXXJ1|          1|            0|          0|   N|\n",
            "|R105KF16VGOILR|          4|            1|          1|   N|\n",
            "|R106A2ETV5NZNE|          5|            0|          0|   N|\n",
            "|R106UPPPFIIX3P|          5|            0|          0|   N|\n",
            "|R107IKXXNUAZZC|          5|            0|          0|   N|\n",
            "|R1081CHIZX3PZW|          4|            1|          1|   N|\n",
            "|R1092B4NE0WNDD|          4|            0|          0|   N|\n",
            "|R109WVVOK26661|          1|            0|          0|   N|\n",
            "|R10AQ92VE5HTJ6|          5|            1|          1|   N|\n",
            "|R10B0JU67L0MDU|          5|            1|          1|   N|\n",
            "|R10CZGWX0WIAM6|          5|            0|          0|   N|\n",
            "|R10DTIJZK1SU21|          5|            0|          0|   N|\n",
            "|R10G1B9243UZU4|          5|            0|          0|   N|\n",
            "|R10G2Z75B0VH5S|          5|            0|          0|   N|\n",
            "|R10IMWN6T9R3OF|          5|            0|          0|   N|\n",
            "+--------------+-----------+-------------+-----------+----+\n",
            "only showing top 20 rows\n",
            "\n"
          ]
        }
      ]
    },
    {
      "cell_type": "markdown",
      "source": [
        "**Analysis**"
      ],
      "metadata": {
        "id": "ehe05_HOEL_i"
      }
    },
    {
      "cell_type": "code",
      "source": [
        "vine_table_df.orderBy(desc('total_votes')).show()"
      ],
      "metadata": {
        "colab": {
          "base_uri": "https://localhost:8080/"
        },
        "id": "AIFL7AoeEPgk",
        "outputId": "1ad664eb-96fc-4441-be16-53efa0e48407"
      },
      "execution_count": 13,
      "outputs": [
        {
          "output_type": "stream",
          "name": "stdout",
          "text": [
            "+--------------+-----------+-------------+-----------+----+\n",
            "|     review_id|star_rating|helpful_votes|total_votes|vine|\n",
            "+--------------+-----------+-------------+-----------+----+\n",
            "| R98ZYLB84KR5I|          5|         4004|       4249|   N|\n",
            "|R2HXVIKJY27SHC|          5|         2591|       2887|   N|\n",
            "|R3PA20VZXRWHTJ|          1|         1372|       1498|   N|\n",
            "| RLS6K44P0V87V|          4|         1288|       1425|   N|\n",
            "|R22O940WOHPL5H|          5|         1019|       1135|   N|\n",
            "|R1CCAPD7CHQ6V7|          1|          753|        901|   N|\n",
            "|R3I22M1QEOXAAZ|          5|          748|        895|   N|\n",
            "|R1EW24Z16XE5BZ|          5|          759|        878|   N|\n",
            "|R30LES7PE4O9LM|          5|          803|        820|   N|\n",
            "|R3V539242QE3L3|          5|          738|        782|   N|\n",
            "|R3OWSMRC33P0FM|          5|          635|        754|   N|\n",
            "|R3K634QWBXXOAZ|          5|          706|        725|   N|\n",
            "|R264317PFNOCXI|          5|          671|        700|   N|\n",
            "|R1ZE2ANR28UKLR|          3|          562|        698|   N|\n",
            "|R18DS7SAHWB8AB|          5|          638|        692|   N|\n",
            "|R2LMX8YLNV6JRO|          5|          675|        690|   N|\n",
            "|R19HPR0EYCVHYV|          5|          607|        640|   N|\n",
            "|R31GXD6EP91CGT|          5|          531|        635|   N|\n",
            "| REEFHLH2OYQUX|          5|          554|        634|   N|\n",
            "| RUK6NH8WBIC7S|          5|          626|        633|   N|\n",
            "+--------------+-----------+-------------+-----------+----+\n",
            "only showing top 20 rows\n",
            "\n"
          ]
        }
      ]
    },
    {
      "cell_type": "code",
      "source": [
        "vine_table_df.groupby('vine').count().show()"
      ],
      "metadata": {
        "colab": {
          "base_uri": "https://localhost:8080/"
        },
        "id": "Loz4k9I2SU5u",
        "outputId": "29c82bdc-04b3-4151-dbb9-91778860d3c7"
      },
      "execution_count": 59,
      "outputs": [
        {
          "output_type": "stream",
          "name": "stdout",
          "text": [
            "+----+------+\n",
            "|vine| count|\n",
            "+----+------+\n",
            "|   Y|  1747|\n",
            "|   N|958932|\n",
            "+----+------+\n",
            "\n"
          ]
        }
      ]
    },
    {
      "cell_type": "markdown",
      "source": [
        "**Set Total number of votes >=10**"
      ],
      "metadata": {
        "id": "y5uRws5TM2QX"
      }
    },
    {
      "cell_type": "code",
      "source": [
        "vine_table_df.filter('total_votes >=10').count()"
      ],
      "metadata": {
        "colab": {
          "base_uri": "https://localhost:8080/"
        },
        "id": "CBTjn-ddIfPx",
        "outputId": "241d0f8d-2df3-4ca5-8cac-9ef7dac083ee"
      },
      "execution_count": 51,
      "outputs": [
        {
          "output_type": "execute_result",
          "data": {
            "text/plain": [
              "27722"
            ]
          },
          "metadata": {},
          "execution_count": 51
        }
      ]
    },
    {
      "cell_type": "code",
      "source": [
        "VoteCount=vine_table_df.filter('total_votes >=10')"
      ],
      "metadata": {
        "id": "fkKgndDJJAE_"
      },
      "execution_count": 53,
      "outputs": []
    },
    {
      "cell_type": "markdown",
      "source": [
        "**Splitting Vine(paid) and Non Vine(unpaid reviews)**"
      ],
      "metadata": {
        "id": "hg-AH5p1K8gU"
      }
    },
    {
      "cell_type": "markdown",
      "source": [
        "**Total Number of paid reviews**"
      ],
      "metadata": {
        "id": "qPe5AJ7DMXda"
      }
    },
    {
      "cell_type": "code",
      "source": [
        "Vine_df=VoteCount.filter(\"vine =='Y'\")\n",
        "Total_vine_reviews=Vine_df.count()"
      ],
      "metadata": {
        "id": "9qvfRC4LJHKJ"
      },
      "execution_count": 70,
      "outputs": []
    },
    {
      "cell_type": "markdown",
      "source": [
        "**Total number of unpaid reviews**"
      ],
      "metadata": {
        "id": "PX2QH1JlMfcy"
      }
    },
    {
      "cell_type": "code",
      "source": [
        "NonVine_df=VoteCount.filter(\"vine =='N'\")\n",
        "Total_NonVine_reviews=NonVine_df.count()"
      ],
      "metadata": {
        "id": "bXYpvjGfL630"
      },
      "execution_count": 71,
      "outputs": []
    },
    {
      "cell_type": "markdown",
      "source": [
        "**Number of 5 star Vine reviews and non-Vine reviews**"
      ],
      "metadata": {
        "id": "x7vYZiwYNhWX"
      }
    },
    {
      "cell_type": "code",
      "source": [
        "Vine_rating=Vine_df.filter(\"star_rating == 5\").count()"
      ],
      "metadata": {
        "id": "XR4FRgeHNOL5"
      },
      "execution_count": 62,
      "outputs": []
    },
    {
      "cell_type": "code",
      "source": [
        "NonVine_rating=NonVine_df.filter(\"star_rating == 5\").count()"
      ],
      "metadata": {
        "id": "HErppnpbMw2p"
      },
      "execution_count": 63,
      "outputs": []
    },
    {
      "cell_type": "markdown",
      "source": [
        "**Total number of 5 star reviews**"
      ],
      "metadata": {
        "id": "2yjIb3PoOb16"
      }
    },
    {
      "cell_type": "code",
      "source": [
        "Total_rating=VoteCount.filter(\"star_rating == 5\").count()"
      ],
      "metadata": {
        "id": "RfqXZZG2OzsE"
      },
      "execution_count": 64,
      "outputs": []
    },
    {
      "cell_type": "markdown",
      "source": [
        "**Percentage calculation**"
      ],
      "metadata": {
        "id": "HXaaQe-LPGAa"
      }
    },
    {
      "cell_type": "code",
      "source": [
        "#Vine Reviews\n",
        "Vine_perc=round((Vine_rating/Total_vine_reviews)*100,2)\n",
        "Vine_perc"
      ],
      "metadata": {
        "colab": {
          "base_uri": "https://localhost:8080/"
        },
        "id": "REKKuln2PO1e",
        "outputId": "6d78e789-e556-4a2a-df2b-dea1ac40c5a9"
      },
      "execution_count": 72,
      "outputs": [
        {
          "output_type": "execute_result",
          "data": {
            "text/plain": [
              "33.85"
            ]
          },
          "metadata": {},
          "execution_count": 72
        }
      ]
    },
    {
      "cell_type": "code",
      "source": [
        "# Non-Vine Reviews\n",
        "NonVine_perc=round((NonVine_rating/Total_NonVine_reviews)*100,2)\n",
        "NonVine_perc"
      ],
      "metadata": {
        "colab": {
          "base_uri": "https://localhost:8080/"
        },
        "id": "zN0TMBXkRRbG",
        "outputId": "754b83c1-f703-409e-8ecc-aaa2ff2f22da"
      },
      "execution_count": 73,
      "outputs": [
        {
          "output_type": "execute_result",
          "data": {
            "text/plain": [
              "45.98"
            ]
          },
          "metadata": {},
          "execution_count": 73
        }
      ]
    },
    {
      "cell_type": "markdown",
      "source": [
        "**Summary of Analysis**"
      ],
      "metadata": {
        "id": "qFCKiEKoRze9"
      }
    },
    {
      "cell_type": "markdown",
      "source": [
        "Total Number of paid reviews is 1747 and unpaid reviews is 958932.Out of that only the data with total votes >=10 is being analyzed.So now the total Number of paid reviews is 130 and unpaid reviews is 27592.\n",
        "Percentage of paid reviews with 5 star rating is 33.85 ,whereas for nonvine reviews is 45.98.As per this analysis it can be assumed that the Vine reviews are not biased.\n",
        "\n"
      ],
      "metadata": {
        "id": "upMEUmURR2wF"
      }
    },
    {
      "cell_type": "code",
      "source": [
        ""
      ],
      "metadata": {
        "id": "zewxmCthRoSc"
      },
      "execution_count": null,
      "outputs": []
    },
    {
      "cell_type": "markdown",
      "source": [
        "# New Section"
      ],
      "metadata": {
        "id": "aHp8m-zNuFg6"
      }
    }
  ]
}